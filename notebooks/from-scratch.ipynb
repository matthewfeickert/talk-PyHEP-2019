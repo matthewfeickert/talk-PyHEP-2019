{
 "cells": [
  {
   "cell_type": "markdown",
   "metadata": {},
   "source": [
    "This is a very brief demo to show how one could go from an environment with just a Python 3 runtime to pyhf installed and being useful."
   ]
  },
  {
   "cell_type": "markdown",
   "metadata": {},
   "source": [
    "## Installation"
   ]
  },
  {
   "cell_type": "markdown",
   "metadata": {},
   "source": [
    "To take advantage of the great tools that `uproot` provides us let's install `pyhf` with the [`xmlio` options](https://diana-hep.org/pyhf/examples/notebooks/XML_ImportExport.html)\n",
    "\n",
    "```\n",
    "$ pip3 install pyhf[xmlio]\n",
    "```\n",
    "\n",
    "but this is Binder! so I've already done that for you. :)"
   ]
  },
  {
   "cell_type": "markdown",
   "metadata": {},
   "source": [
    "## Running with CLI"
   ]
  },
  {
   "cell_type": "markdown",
   "metadata": {},
   "source": [
    "Now that we have `pyhf` installed let's ask what the CLI can do for us"
   ]
  },
  {
   "cell_type": "code",
   "execution_count": 1,
   "metadata": {},
   "outputs": [
    {
     "name": "stdout",
     "output_type": "stream",
     "text": [
      "Usage: pyhf [OPTIONS] COMMAND [ARGS]...\n",
      "\n",
      "Options:\n",
      "  --version   Show the version and exit.\n",
      "  -h, --help  Show this message and exit.\n",
      "\n",
      "Commands:\n",
      "  cls\n",
      "  inspect\n",
      "  json2xml\n",
      "  xml2json  Entrypoint XML: The top-level XML file for the PDF definition.\n"
     ]
    }
   ],
   "source": [
    "! pyhf --help"
   ]
  },
  {
   "cell_type": "markdown",
   "metadata": {},
   "source": [
    "and then let's use `pyhf inspect` to check to see if our `example.json` is in a correct form for the schema"
   ]
  },
  {
   "cell_type": "code",
   "execution_count": 2,
   "metadata": {},
   "outputs": [
    {
     "name": "stdout",
     "output_type": "stream",
     "text": [
      "          Summary       \n",
      "    ------------------  \n",
      "       channels  1\n",
      "        samples  2\n",
      "     parameters  2\n",
      "      modifiers  2\n",
      "\n",
      "       channels  nbins\n",
      "     ----------  -----\n",
      "  singlechannel    2  \n",
      "\n",
      "        samples\n",
      "     ----------\n",
      "     background\n",
      "         signal\n",
      "\n",
      "     parameters  constraint              modifiers\n",
      "     ----------  ----------              ----------\n",
      "             mu  unconstrained           normfactor\n",
      "uncorr_bkguncrt  constrained_by_poisson  shapesys\n",
      "\n",
      "    measurement           poi            parameters\n",
      "     ----------        ----------        ----------\n",
      "(*) Measurement            mu            (none)\n",
      "\n"
     ]
    }
   ],
   "source": [
    "! pyhf inspect example.json"
   ]
  },
  {
   "cell_type": "markdown",
   "metadata": {},
   "source": [
    "finally use `pyhf cls` to get the observed CL_s and the expected CL_s band values (the \"[Brazil Band](https://arxiv.org/pdf/1306.3117.pdf#page=102)\")"
   ]
  },
  {
   "cell_type": "code",
   "execution_count": 3,
   "metadata": {},
   "outputs": [
    {
     "name": "stdout",
     "output_type": "stream",
     "text": [
      "{\n",
      "    \"CLs_exp\": [\n",
      "        0.07807427911686152,\n",
      "        0.17472571775474582,\n",
      "        0.35998495263681274,\n",
      "        0.6343568235898907,\n",
      "        0.8809947004472013\n",
      "    ],\n",
      "    \"CLs_obs\": 0.3599845631401913\n",
      "}\n"
     ]
    }
   ],
   "source": [
    "! pyhf cls example.json"
   ]
  },
  {
   "cell_type": "markdown",
   "metadata": {},
   "source": [
    "### Expanding the CLI with other tools\n",
    "\n",
    "Additionally, you can also use [JSON Patch](https://tools.ietf.org/html/rfc6902) to patch a new signal in and update the likelihood (think reinterpretation)."
   ]
  },
  {
   "cell_type": "code",
   "execution_count": 4,
   "metadata": {},
   "outputs": [
    {
     "name": "stdout",
     "output_type": "stream",
     "text": [
      "{\n",
      "    \"CLs_exp\": [\n",
      "        0.14695763778146098,\n",
      "        0.2738178123017487,\n",
      "        0.47642647066827803,\n",
      "        0.7289555883715226,\n",
      "        0.922094011644031\n",
      "    ],\n",
      "    \"CLs_obs\": 0.4764263982925686\n",
      "}\n"
     ]
    }
   ],
   "source": [
    "! pyhf cls example.json --patch new_signal.json"
   ]
  },
  {
   "cell_type": "markdown",
   "metadata": {},
   "source": [
    "and as the return format from `pyhf cls` is JSON you can also use [`jq`](https://stedolan.github.io/jq/) to filter results"
   ]
  },
  {
   "cell_type": "code",
   "execution_count": 5,
   "metadata": {},
   "outputs": [
    {
     "name": "stdout",
     "output_type": "stream",
     "text": [
      "\u001b[0;39m0.4764263982925686\u001b[0m\n"
     ]
    }
   ],
   "source": [
    "! pyhf cls example.json --patch new_signal.json | jq .CLs_obs"
   ]
  },
  {
   "cell_type": "markdown",
   "metadata": {},
   "source": [
    "and of course given the way the CLI is setup you can pipe in the JSON which means that you can grab remotely hosted files (think HEPData). Here we `curl` the `example.json` down from GitHub"
   ]
  },
  {
   "cell_type": "code",
   "execution_count": 6,
   "metadata": {},
   "outputs": [
    {
     "name": "stdout",
     "output_type": "stream",
     "text": [
      "{\n",
      "    \"CLs_exp\": [\n",
      "        0.14695763778146098,\n",
      "        0.2738178123017487,\n",
      "        0.47642647066827803,\n",
      "        0.7289555883715226,\n",
      "        0.922094011644031\n",
      "    ],\n",
      "    \"CLs_obs\": 0.4764263982925686\n",
      "}\n"
     ]
    }
   ],
   "source": [
    "! curl -sL https://raw.githubusercontent.com/matthewfeickert/talk-PyHEP-2019/master/notebooks/example.json \\\n",
    "    | pyhf cls --patch new_signal.json"
   ]
  },
  {
   "cell_type": "markdown",
   "metadata": {},
   "source": [
    "Those URLs are hard to read (Jupyter shell magics are only so magic), so the following is happening:\n",
    "\n",
    "```\n",
    "curl -sL https://web.end.point/model.json \\\n",
    "  | pyhf cls --patch <(curl -sL https://web.end.point/new_signal.json)\n",
    "```"
   ]
  }
 ],
 "metadata": {
  "kernelspec": {
   "display_name": "Python 3",
   "language": "python",
   "name": "python3"
  },
  "language_info": {
   "codemirror_mode": {
    "name": "ipython",
    "version": 3
   },
   "file_extension": ".py",
   "mimetype": "text/x-python",
   "name": "python",
   "nbconvert_exporter": "python",
   "pygments_lexer": "ipython3",
   "version": "3.7.3"
  }
 },
 "nbformat": 4,
 "nbformat_minor": 2
}
